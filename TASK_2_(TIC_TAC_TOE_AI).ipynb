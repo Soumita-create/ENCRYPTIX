{
  "nbformat": 4,
  "nbformat_minor": 0,
  "metadata": {
    "colab": {
      "provenance": []
    },
    "kernelspec": {
      "name": "python3",
      "display_name": "Python 3"
    },
    "language_info": {
      "name": "python"
    }
  },
  "cells": [
    {
      "cell_type": "markdown",
      "source": [
        "\n",
        "**TIC-TAC-TOE AI**\n",
        "---\n",
        "\n"
      ],
      "metadata": {
        "id": "0JKApLGhParD"
      }
    },
    {
      "cell_type": "markdown",
      "source": [
        "Step 1: Setup the Board"
      ],
      "metadata": {
        "id": "1akeuPc6Pjf3"
      }
    },
    {
      "cell_type": "code",
      "execution_count": 1,
      "metadata": {
        "id": "wbuc-FPTPK3H"
      },
      "outputs": [],
      "source": [
        "# Define the board\n",
        "board = [' ' for _ in range(9)]\n",
        "\n",
        "def print_board(board):\n",
        "    for row in [board[i*3:(i+1)*3] for i in range(3)]:\n",
        "        print('| ' + ' | '.join(row) + ' |')\n"
      ]
    },
    {
      "cell_type": "markdown",
      "source": [
        "Step 2: Player Moves"
      ],
      "metadata": {
        "id": "347BIanFPxGG"
      }
    },
    {
      "cell_type": "code",
      "source": [
        "def make_move(board, position, player):\n",
        "    if board[position] == ' ':\n",
        "        board[position] = player\n",
        "        return True\n",
        "    return False\n"
      ],
      "metadata": {
        "id": "TPvwqMQrPqd7"
      },
      "execution_count": 2,
      "outputs": []
    },
    {
      "cell_type": "markdown",
      "source": [
        "Step 3: Check for Win"
      ],
      "metadata": {
        "id": "lFW5joCTP9hD"
      }
    },
    {
      "cell_type": "code",
      "source": [
        "def check_win(board, player):\n",
        "    win_conditions = [(0, 1, 2), (3, 4, 5), (6, 7, 8),  # Horizontal\n",
        "                      (0, 3, 6), (1, 4, 7), (2, 5, 8),  # Vertical\n",
        "                      (0, 4, 8), (2, 4, 6)]             # Diagonal\n",
        "\n",
        "    for condition in win_conditions:\n",
        "        if all(board[i] == player for i in condition):\n",
        "            return True\n",
        "    return False\n",
        "\n",
        "def check_draw(board):\n",
        "    return ' ' not in board\n"
      ],
      "metadata": {
        "id": "CxqQJsnfP4kB"
      },
      "execution_count": 3,
      "outputs": []
    },
    {
      "cell_type": "markdown",
      "source": [
        "Step 4: Minimax Algorithm"
      ],
      "metadata": {
        "id": "I4TahwyAQE3J"
      }
    },
    {
      "cell_type": "code",
      "source": [
        "def minimax(board, depth, alpha, beta, is_maximizing):\n",
        "    if check_win(board, 'O'):\n",
        "        return 1\n",
        "    elif check_win(board, 'X'):\n",
        "        return -1\n",
        "    elif check_draw(board):\n",
        "        return 0\n",
        "\n",
        "    if is_maximizing:\n",
        "        max_eval = -float('inf')\n",
        "        for i in range(9):\n",
        "            if board[i] == ' ':\n",
        "                board[i] = 'O'\n",
        "                eval = minimax(board, depth + 1, alpha, beta, False)\n",
        "                board[i] = ' '\n",
        "                max_eval = max(max_eval, eval)\n",
        "                alpha = max(alpha, eval)\n",
        "                if beta <= alpha:\n",
        "                    break\n",
        "        return max_eval\n",
        "    else:\n",
        "        min_eval = float('inf')\n",
        "        for i in range(9):\n",
        "            if board[i] == ' ':\n",
        "                board[i] = 'X'\n",
        "                eval = minimax(board, depth + 1, alpha, beta, True)\n",
        "                board[i] = ' '\n",
        "                min_eval = min(min_eval, eval)\n",
        "                beta = min(beta, eval)\n",
        "                if beta <= alpha:\n",
        "                    break\n",
        "        return min_eval\n"
      ],
      "metadata": {
        "id": "YMl3O5kLQAV9"
      },
      "execution_count": 4,
      "outputs": []
    },
    {
      "cell_type": "markdown",
      "source": [
        "Step 5: AI Move\n"
      ],
      "metadata": {
        "id": "-lFKP7AyQMIO"
      }
    },
    {
      "cell_type": "code",
      "source": [
        "def ai_move(board):\n",
        "    best_score = -float('inf')\n",
        "    best_move = None\n",
        "    for i in range(9):\n",
        "        if board[i] == ' ':\n",
        "            board[i] = 'O'\n",
        "            score = minimax(board, 0, -float('inf'), float('inf'), False)\n",
        "            board[i] = ' '\n",
        "            if score > best_score:\n",
        "                best_score = score\n",
        "                best_move = i\n",
        "    make_move(board, best_move, 'O')\n"
      ],
      "metadata": {
        "id": "FvdIALX2QH50"
      },
      "execution_count": 5,
      "outputs": []
    },
    {
      "cell_type": "markdown",
      "source": [
        "Step 6: Game Loop\n"
      ],
      "metadata": {
        "id": "Ip-bkZl6QRHJ"
      }
    },
    {
      "cell_type": "code",
      "source": [
        "def main():\n",
        "    print(\"Welcome to Tic-Tac-Toe!\")\n",
        "    print_board(board)\n",
        "\n",
        "    while True:\n",
        "        # Player move\n",
        "        position = int(input(\"Enter your move (1-9): \")) - 1\n",
        "        if make_move(board, position, 'X'):\n",
        "            print_board(board)\n",
        "            if check_win(board, 'X'):\n",
        "                print(\"You win!\")\n",
        "                break\n",
        "            elif check_draw(board):\n",
        "                print(\"It's a draw!\")\n",
        "                break\n",
        "\n",
        "            # AI move\n",
        "            ai_move(board)\n",
        "            print(\"AI's move:\")\n",
        "            print_board(board)\n",
        "            if check_win(board, 'O'):\n",
        "                print(\"AI wins!\")\n",
        "                break\n",
        "            elif check_draw(board):\n",
        "                print(\"It's a draw!\")\n",
        "                break\n",
        "        else:\n",
        "            print(\"Invalid move. Try again.\")\n",
        "\n",
        "if __name__ == \"__main__\":\n",
        "    main()\n"
      ],
      "metadata": {
        "colab": {
          "base_uri": "https://localhost:8080/"
        },
        "id": "HGukkrV6QO38",
        "outputId": "d6c1c941-9af4-4b03-ebd5-4619875c1019"
      },
      "execution_count": 6,
      "outputs": [
        {
          "output_type": "stream",
          "name": "stdout",
          "text": [
            "Welcome to Tic-Tac-Toe!\n",
            "|   |   |   |\n",
            "|   |   |   |\n",
            "|   |   |   |\n",
            "Enter your move (1-9): 7\n",
            "|   |   |   |\n",
            "|   |   |   |\n",
            "| X |   |   |\n",
            "AI's move:\n",
            "|   |   |   |\n",
            "|   | O |   |\n",
            "| X |   |   |\n",
            "Enter your move (1-9): 5\n",
            "Invalid move. Try again.\n",
            "Enter your move (1-9): 4\n",
            "|   |   |   |\n",
            "| X | O |   |\n",
            "| X |   |   |\n",
            "AI's move:\n",
            "| O |   |   |\n",
            "| X | O |   |\n",
            "| X |   |   |\n",
            "Enter your move (1-9): 9\n",
            "| O |   |   |\n",
            "| X | O |   |\n",
            "| X |   | X |\n",
            "AI's move:\n",
            "| O |   |   |\n",
            "| X | O |   |\n",
            "| X | O | X |\n",
            "Enter your move (1-9): 2\n",
            "| O | X |   |\n",
            "| X | O |   |\n",
            "| X | O | X |\n",
            "AI's move:\n",
            "| O | X | O |\n",
            "| X | O |   |\n",
            "| X | O | X |\n",
            "Enter your move (1-9): 6\n",
            "| O | X | O |\n",
            "| X | O | X |\n",
            "| X | O | X |\n",
            "It's a draw!\n"
          ]
        }
      ]
    }
  ]
}